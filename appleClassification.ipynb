{
 "cells": [
  {
   "cell_type": "code",
   "execution_count": null,
   "metadata": {},
   "outputs": [],
   "source": [
    "#import necessary libraries\n",
    "\n",
    "import tensorflow as tf \n",
    "from tensorflow import keras\n",
    "from tensorflow.keras import layers\n",
    "from matplotlib import pyplot as plt\n",
    "import numpy as np  "
   ]
  },
  {
   "cell_type": "code",
   "execution_count": null,
   "metadata": {},
   "outputs": [],
   "source": [
    "\n",
    "#import data\n",
    "\n",
    "training_data = keras.utils.image_dataset_from_directory(\n",
    "    'MendeleyData\\\\train', \n",
    "    image_size = (255,255),\n",
    "    batch_size= 16, \n",
    "    label_mode=  \"int\",\n",
    "    shuffle = True) \n",
    "\n",
    "v_data = keras.utils.image_dataset_from_directory(\n",
    "    'MendeleyData\\\\validation',\n",
    "    image_size = (255,255),\n",
    "    batch_size= 16, \n",
    "   label_mode=  \"int\",\n",
    "   shuffle = False) \n",
    "\n",
    "\n",
    "\n",
    "print(training_data.class_names)\n",
    "print(training_data)\n"
   ]
  },
  {
   "cell_type": "code",
   "execution_count": null,
   "metadata": {},
   "outputs": [],
   "source": [
    "#create model\n",
    "\n",
    "ConvModel = tf.keras.Sequential([\n",
    "    layers.Rescaling(1./255,input_shape=(255,255,3)), # makes computations easier\n",
    "    layers.RandomRotation(0.2), # rotate image up to 20 percent (data augmentation)\n",
    "    layers.RandomFlip('horizontal_and_vertical'), # flip image randomly(data augmentation)\n",
    "    layers.RandomZoom(0.1), # zoom up to 10 percent (data augmentatiom)\n",
    "    layers.Conv2D(16, 3, activation='relu'),\n",
    "    layers.MaxPooling2D(),\n",
    "    layers.Conv2D(32, 3, activation='relu'),\n",
    "    layers.MaxPooling2D(),\n",
    "    layers.Conv2D(64, 3, activation='relu'),\n",
    "    layers.MaxPooling2D(),        \n",
    "    layers.Dropout(0.1),\n",
    "    layers.Conv2D(64, 3, activation='relu'),\n",
    "    layers.Dropout(0.2),\n",
    "    layers.MaxPooling2D(),                  \n",
    "    layers.Conv2D(128, 3, activation='relu'),                 \n",
    "    layers.Dropout(0.2),\n",
    "    layers.Flatten(),\n",
    "    layers.Dense(128 ,activation='relu'),\n",
    "    layers.Dropout(0.3),\n",
    "    layers.Dense(64,activation='relu'),\n",
    "    layers.Dropout(0.1),\n",
    "    layers.Dense(4,activation='softmax') # multiple classes for output (apple scab, black_rot, etc. ) use softmax to convert logits into probabilities\n",
    "])"
   ]
  },
  {
   "cell_type": "code",
   "execution_count": null,
   "metadata": {},
   "outputs": [],
   "source": [
    "#compile model\n",
    "comp = ConvModel.compile(optimizer='adam',loss=tf.keras.losses.SparseCategoricalCrossentropy(from_logits=False),metrics=['accuracy']) "
   ]
  },
  {
   "cell_type": "code",
   "execution_count": null,
   "metadata": {},
   "outputs": [],
   "source": [
    "#check shape of image throghout each layer\n",
    "ConvModel.summary()"
   ]
  },
  {
   "cell_type": "code",
   "execution_count": null,
   "metadata": {},
   "outputs": [],
   "source": [
    "\n",
    "fit = ConvModel.fit(training_data,validation_data=v_data,epochs=400)                                          "
   ]
  },
  {
   "cell_type": "code",
   "execution_count": null,
   "metadata": {},
   "outputs": [],
   "source": [
    "ConvModel.save('apple_classification_model.keras') # save model as keras file "
   ]
  },
  {
   "cell_type": "code",
   "execution_count": null,
   "metadata": {},
   "outputs": [],
   "source": [
    "#collect data\n",
    "\n",
    "data = fit.history\n",
    "\n",
    "epochs = range(10)\n",
    "loss = data['loss']\n",
    "val_loss = data['val_loss']\n",
    "accuracy = data['accuracy']\n",
    "val_accuracy = data['val_accuracy']"
   ]
  },
  {
   "cell_type": "code",
   "execution_count": null,
   "metadata": {},
   "outputs": [],
   "source": [
    "#graph loss\n",
    "\n",
    "plt.title('Loss Based on Epochs')\n",
    "\n",
    "plt.plot(epochs,loss,'maroon',label='loss') #graphs loss as maroon\n",
    "plt.plot(epochs,val_loss,'steelblue',label='val loss') # graphs validation loss as blue\n",
    "\n",
    "plt.yticks([0.1,0.2,0.3,0.4,0.5,0.6,0.7,0.8,0.9,1,1.1,1.2,1.3,1.4,1.5,1.6,1.7,1.8,1.9]) # set tick marks\n",
    "\n",
    "plt.grid()\n",
    "plt.legend()\n"
   ]
  },
  {
   "cell_type": "code",
   "execution_count": null,
   "metadata": {},
   "outputs": [],
   "source": [
    "#graph accuracy\n",
    "\n",
    "plt.title('Accuracy Based on Epochs')\n",
    "\n",
    "plt.plot(epochs,accuracy,'darkorange',label='accuracy') #graphs accuracy as orange\n",
    "plt.plot(epochs,val_accuracy,'steelblue',label='val accuracy') # graphs validation accuracy as blue\n",
    "\n",
    "plt.grid()\n",
    "plt.legend()\n"
   ]
  }
 ],
 "metadata": {
  "kernelspec": {
   "display_name": "Python 3",
   "language": "python",
   "name": "python3"
  },
  "language_info": {
   "codemirror_mode": {
    "name": "ipython",
    "version": 3
   },
   "file_extension": ".py",
   "mimetype": "text/x-python",
   "name": "python",
   "nbconvert_exporter": "python",
   "pygments_lexer": "ipython3",
   "version": "3.10.7"
  }
 },
 "nbformat": 4,
 "nbformat_minor": 4
}
